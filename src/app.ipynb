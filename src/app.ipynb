{
 "cells": [
  {
   "cell_type": "markdown",
   "metadata": {},
   "source": [
    "# Práctica Return 1\n",
    "* Crea una función llamada potencia que tome dos valores numéricos como argumentos. \n",
    "* Deberá devolver el número que resulte de resolver una potencia, utilizando el primer número como base, y el segundo como exponente\n"
   ]
  },
  {
   "cell_type": "code",
   "execution_count": null,
   "metadata": {},
   "outputs": [],
   "source": [
    "def potencia (num1,num2):\n",
    "    base = num1\n",
    "    exponente = num2\n",
    "    total = base ** exponente\n",
    "    return total"
   ]
  },
  {
   "cell_type": "markdown",
   "metadata": {},
   "source": [
    "# Práctica Return 2\n",
    "* Crea una función llamada usd_a_eur que tome como único parámetro un valor numérico \n",
    "* (un monto en dólares estadounidenses), y devuelva como resultado el monto equivalente en euros. \n",
    "* A fines de este ejemplo, tomaremos la conversión 1 USD = 0.90 EUR.\n",
    "* Crea una variable llamada dolares y almacena en ella un monto cualquiera para entregárselo a tu función y evaluar su resultado.\n"
   ]
  },
  {
   "cell_type": "code",
   "execution_count": null,
   "metadata": {},
   "outputs": [],
   "source": [
    "def usd_a_eur(num1):\n",
    "    dolares = num1 * 0.90\n",
    "    return dolares\n",
    "\n",
    "dolares = 50\n",
    "\n",
    "print (usd_a_eur(dolares))"
   ]
  },
  {
   "cell_type": "markdown",
   "metadata": {},
   "source": [
    "# Práctica Return 3\n",
    "#Crea una función llamada invertir_palabra que tome los caracteres de una palabra dada como argumento, \n",
    "#invierta el orden de sus caracteres y los devuelva de ese modo y en mayúsculas.\n",
    "#Por ejemplo, si le proporcionamos la palabra \"Python\", deberá devolver: \"NOHTYP\"\n",
    "#También, deberás crear una variable llamada palabra, que contenga el string que tú prefieras, \n",
    "#para sumisitrarle como argumento a la función creada.\n",
    "#Pista: dentro de la función creada, deberás utilizar métodos de strings ya vistos."
   ]
  },
  {
   "cell_type": "code",
   "execution_count": null,
   "metadata": {},
   "outputs": [],
   "source": [
    "#Porque lo anterior no sale? Porque reverse() no sirve para str. los str son inmutables\n",
    "\n",
    "def invertir_palabra(palabra):\n",
    "    palabra_invertida = palabra[::-1].upper()\n",
    "    return palabra_invertida\n",
    "\n",
    "# Crear una variable llamada 'palabra' con el string que prefieras\n",
    "palabra = \"Hola\"\n",
    "\n",
    "# Llamar a la función con la palabra elegida\n",
    "resultado = invertir_palabra(palabra)\n",
    "\n",
    "# Imprimir el resultado\n",
    "print(resultado)"
   ]
  },
  {
   "cell_type": "markdown",
   "metadata": {},
   "source": [
    "# Práctica Funciones Dinámicas 1\n",
    "* Crea una función (todos_positivos) que reciba una lista de números como parámetro, y devuelva True si todos los valores de una lista son positivos, y False si al menos uno de los valores es negativo. \n",
    "* Crea una lista llamada lista_numeros con valores positivos y negativos.\n",
    "No invoques la función, solo es necesario definirla."
   ]
  },
  {
   "cell_type": "code",
   "execution_count": null,
   "metadata": {},
   "outputs": [],
   "source": [
    "def todos_positivos (lista):\n",
    "    for n in lista:\n",
    "        if n < 0:\n",
    "            print (False)\n",
    "        else:\n",
    "            pass\n",
    "    return True\n",
    "\n",
    "lista_numeros = [1, -50, 502, -5000, 755, 600, 33, 61\n",
    "]\n",
    "\n",
    "todos_positivos (lista_numeros)\n",
    "\n",
    "#FORMA LAS CORRECTA: \n",
    "def todos_positivos(lista):\n",
    "    for n in lista:\n",
    "        if n < 0:\n",
    "            return False\n",
    "    return True\n",
    "    \n",
    "lista_numeros = [1, -50, 502, -5000, 755, 600, 33, 61]"
   ]
  },
  {
   "cell_type": "markdown",
   "metadata": {},
   "source": [
    "# Práctica Funciones Dinámicas 2\n",
    "* *Crea una función (suma_menores) que sume los números de una lista (almacenada en la variable lista_numeros) siempre y cuando sean mayores a 0 y menores a 1000, y devuelva el resultado de dicha suma.\n"
   ]
  },
  {
   "cell_type": "code",
   "execution_count": null,
   "metadata": {},
   "outputs": [],
   "source": [
    "def suma_menores (listas):\n",
    "    lista_numeros = []\n",
    "    for n in listas:\n",
    "        if n >= 0 and n < 1000 :\n",
    "            lista_numeros.append(n)\n",
    "        else:\n",
    "            continue\n",
    "    return sum(lista_numeros)\n",
    "\n",
    "print (suma_menores ([4562,675,54,456,876,877846]))\n",
    "\n",
    "\n",
    "# Otra forma:\n",
    "\n",
    "def suma_menores(listas):\n",
    "    lista_numeros = []\n",
    "    for n in listas:\n",
    "        if 0 <= n < 1000:\n",
    "            lista_numeros.append(n)\n",
    "        else:\n",
    "            continue\n",
    "    return sum(lista_numeros)\n",
    "\n",
    "# Llamada a la función con una lista de números\n",
    "resultado = suma_menores([4562, 675, 54, 456, 876, 877846])\n",
    "print(resultado)\n",
    "\n",
    "\n",
    "# Otra forma\n",
    "lista_numeros = []\n",
    "\n",
    "def suma_menores(listas):\n",
    "    global lista_numeros\n",
    "    for n in listas:\n",
    "        if 0 <= n < 1000:\n",
    "            lista_numeros.append(n)\n",
    "        else:\n",
    "            continue\n",
    "    return sum(lista_numeros)\n",
    "\n",
    "resultado = suma_menores([4562, 675, 54, 456, 876, 877846])\n",
    "print(resultado)"
   ]
  },
  {
   "cell_type": "markdown",
   "metadata": {},
   "source": [
    "# Práctica Funciones Dinámicas 3\n",
    "* Crea una función (cantidad_pares) que cuente la cantidad de números pares que existen en una lista (lista_numeros),y devuelva el resultado de dicha cuenta."
   ]
  },
  {
   "cell_type": "code",
   "execution_count": null,
   "metadata": {},
   "outputs": [],
   "source": [
    "def cantidad_pares (lista):\n",
    "    listapares =[]\n",
    "    for n in lista:\n",
    "        if n % 2 == 0:\n",
    "            listapares.append(n)\n",
    "        else:\n",
    "            continue\n",
    "    return sum(listapares)\n",
    "\n",
    "listaprueba =[2,4,6,8,10,55555,12]\n",
    "print (cantidad_pares (listaprueba))\n",
    "\n",
    "#------------OTRA FORMA: Pero aqui no da la suma, sino dice los elementos que hay\n",
    "\n",
    "\n",
    "def cantidad_pares(lista):\n",
    "    listapares = []\n",
    "    for n in lista:\n",
    "        if n % 2 == 0:\n",
    "            listapares.append(n)\n",
    "        else:\n",
    "            continue\n",
    "    return len(listapares)\n",
    "\n",
    "listaprueba = [2, 4, 6, 8, 10, 55555, 12]\n",
    "print(cantidad_pares(listaprueba))\n"
   ]
  },
  {
   "cell_type": "markdown",
   "metadata": {},
   "source": [
    "# Práctica sobre Interacción entre Funciones 1\n",
    "\n",
    "* 1º Crea una función (lanzar_dados) que arroje dos dados al azar y devuelva sus resultados:\n",
    "    * -(La función debe retornar dos valores resultado, que se encuentren entre 1 y 6).\n",
    "    * -(Dicha función no debe requerir argumentos para funcionar, sino que debe generar internamente los valores aleatorios)\n",
    "\n",
    "* 2º Proporciona el resultado de estos dos dados a una función que se llame evaluar_jugada \n",
    "    * -(es decir, esta segunda función debe recibir dos argumentos) \n",
    "    * -y que retorne -sin imprimirlo- un mensaje según la suma de estos valores:\n",
    "        * Si la suma es menor o igual a 6:\n",
    "            * \"La suma de tus dados es {suma_dados}. Lamentable\"\n",
    "        * Si la suma es mayor a 6 y menor a 10:\n",
    "            * \"La suma de tus dados es {suma_dados}. Tienes buenas chances\"\n",
    "        * Si la suma es mayor o igual a 10:\n",
    "            * \"La suma de tus dados es {suma_dados}. Parece una jugada ganadora\"\n",
    "* Pistas: utiliza el método choice o randint de la biblioteca random para elegir un valor al azar entre 1 y 6.\"\"\"\n"
   ]
  },
  {
   "cell_type": "code",
   "execution_count": null,
   "metadata": {},
   "outputs": [],
   "source": [
    "from random import choice\n",
    "def lanzar_dados ():\n",
    "    dado1 = [1,2,3,4,5,6]\n",
    "    dado2 = [1,2,3,4,5,6]\n",
    "    retorno1 = choice(dado1)\n",
    "    retorno2 = choice(dado2)\n",
    "    return retorno1,retorno2                                                # Aqui hace los 2 retornos separados por ,\n",
    "\n",
    "def evaluar_jugada():\n",
    "    suma_dados = sum(lanzar_dados())                                        # Esto quiere decir que puedes ejecutar una funcion si la llamas dentro de otra función\n",
    "    if suma_dados <=6:\n",
    "        print (f\"La suma de tus dados es {suma_dados}. Lamentable\")\n",
    "    elif suma_dados >6 >10:\n",
    "        print (f\"La suma de tus dados es {suma_dados}. Tienes buenas chances\")\n",
    "    else:\n",
    "        print (f\"La suma de tus dados es {suma_dados}. Parece una jugada ganadora\")\n",
    "\n",
    "# Llama a la función para evaluar una jugada\n",
    "evaluar_jugada()"
   ]
  },
  {
   "cell_type": "markdown",
   "metadata": {},
   "source": [
    "# Práctica sobre Interacción entre Funciones 2\n",
    "\n",
    "* 1º Crea una función llamada reducir_lista() que tome una lista como argumento (crea también la variable lista_numeros), \n",
    "    * -y devuelva la misma lista, pero eliminando duplicados (dejando uno solo de los números si hay repetidos) y eliminando el valor más alto. \n",
    "    * -El orden de los elementos puede modificarse.\n",
    "\n",
    "* Por ejemplo, si se le proporciona la lista [1,2,15,7,2] debe devolver [1,2,7,15].\n",
    "\n",
    "* 2º Crea una función llamada promedio() que pueda recibir como argumento la lista devuelta por la anterior función, \n",
    "    * -y que calcule el promedio de los valores de la misma. Debe devolver el resultado, sin imprimirlo."
   ]
  },
  {
   "cell_type": "code",
   "execution_count": null,
   "metadata": {},
   "outputs": [],
   "source": [
    "\n",
    "#Python no permite eliminar duplicados de una lista (salvo que uses alguna libreria.)\n",
    "#Entonces lo que se hace es tranformar la lista a un set (que no permite valores duplicados) y luego la vuelves a transformar a lista.\n",
    "lista_numeros = [1,22,645,6,3,33,22,1,77,55,77,1,476,99,77,99,452,1]\n",
    "def reducir_lista(lista):\n",
    "    sinduplicados = set(lista)\n",
    "    ahora_a_lista = list(sinduplicados)\n",
    "    return ahora_a_lista \n",
    "\n",
    "def promedio(lista):\n",
    "    lista_no_duplicados = reducir_lista (lista)         # Meto en na variable reducir lista al argumento\n",
    "    sumavalores = sum(lista_no_duplicados)              # Sumo los valores de la lista creada en lista no duplicados\n",
    "    numero_elementos = len(lista_no_duplicados)         # Cuento los valores de la lista no duplicados\n",
    "    division_elementos = numero_elementos/ sumavalores  # Divido la lista sin duplicados entre el nº de elementos\n",
    "    return division_elementos\n",
    "\n",
    "print (promedio (lista_numeros))                        # Le paso a la función "
   ]
  },
  {
   "cell_type": "markdown",
   "metadata": {},
   "source": [
    "# Práctica sobre Interacción entre Funciones 3\n",
    "\n",
    "* 1º Crea una función (llamada lanzar_moneda) que devuelva el resultado de lanzar una moneda (al azar). \n",
    "* Dicha función debe poder devolver los resultados \"Cara\" o \"Cruz\", y no debe recibir argumentos para funcionar.\n",
    "\n",
    "* 2ºCrea una segunda función (llamada probar_suerte), que tome dos argumentos: \n",
    "    * 1ºel primero,debe ser el resultado del lanzamiento de la moneda.\n",
    "    * 2ºEl segundo argumento, será una lista de números cualquiera (debes crear una lista con valores y llamarla lista_numeros).\n",
    "\n",
    "* Si se le proporciona una \"Cara\", debe mostrar el mensaje al usuario: \"La lista se autodestruirá\", \n",
    "* y eliminarla (devolverla como lista vacía []).\n",
    "\n",
    "* Si se le proporciona una \"Cruz\", debe imprimir en pantalla: \"La lista fue salvada\" y devolver la lista intacta.\n",
    "\n",
    "* Pistas: utiliza el método choice de la biblioteca random para elegir un elemento al azar de una secuencia.\n"
   ]
  },
  {
   "cell_type": "code",
   "execution_count": null,
   "metadata": {},
   "outputs": [],
   "source": [
    "import random\n",
    "\n",
    "def lanzar_moneda():\n",
    "    resultados = [\"Cara\", \"Cruz\"]\n",
    "    aleatorio = random.choice(resultados)\n",
    "    return aleatorio\n",
    "\n",
    "def probar_suerte(parametro1, parametro2):\n",
    "    if parametro1 == \"Cara\":\n",
    "        print(\"La lista se autodestruirá\")\n",
    "        return []  # Devolver una lista vacía\n",
    "    else:\n",
    "        print(\"La lista fue salvada\")\n",
    "        return parametro2\n",
    "\n",
    "# Ejemplo de uso\n",
    "lista_numeros = [1, 2, 3, 4, 5]\n",
    "resultado_lanzamiento = lanzar_moneda()\n",
    "todo = probar_suerte(resultado_lanzamiento, lista_numeros)\n",
    "\n",
    "print(todo)"
   ]
  },
  {
   "cell_type": "markdown",
   "metadata": {},
   "source": [
    "# Práctica sobre Argumentos Indefinidos (*args) 1\n",
    "* Crea una función llamada suma_cuadrados que tome una cantidad indeterminada de argumentos numéricos, y que retorne la suma de sus valores al cuadrado.\n",
    "\n",
    "* Por ejemplo para los argumentos suma_cuadrados(1,2,3) deberá retornar 14 (1+4+9)."
   ]
  },
  {
   "cell_type": "code",
   "execution_count": null,
   "metadata": {},
   "outputs": [],
   "source": [
    "def suma_cuadrados (*numeros):\n",
    "    suma = 0\n",
    "    for x in numeros:\n",
    "        suma+= x**2\n",
    "    return suma\n",
    "    \n",
    "print(suma_cuadrados(8,5))\n",
    "\n",
    "\n",
    "#--------------------------------------------------------\n",
    "\"\"\"mas facil\"\"\"\n",
    "\n",
    "def suma_cuadrados (*numeros):\n",
    "    return sum(x**2 for x in numeros)"
   ]
  },
  {
   "cell_type": "markdown",
   "metadata": {},
   "source": [
    "# Práctica sobre Argumentos Indefinidos (*args) 2\n",
    "* Crea una función llamada suma_absolutos, que tome un conjunto de argumentos de cualquier extensión, \n",
    "* y retorne la suma de sus valores absolutos (es decir, que tome los valores sin signo y los sume, o lo que es lo mismo, los considere a todos -negativos y positivos- como positivos)."
   ]
  },
  {
   "cell_type": "code",
   "execution_count": null,
   "metadata": {},
   "outputs": [],
   "source": [
    "def suma_absolutos (*extension):\n",
    "    ca = 0\n",
    "    for elemento in extension:\n",
    "        ca+= (abs(elemento))\n",
    "    return ca\n",
    "\n",
    "print (suma_absolutos (4,5,6,7,6,5,4))\n",
    "\n",
    "\n",
    "#-----------------------------------------------------------------------\n",
    "#mas facil\n",
    "\n",
    "def suma_absolutos(*extension):\n",
    "    return sum(abs(elemento) for elemento in extension)\n",
    "\n",
    "print(suma_absolutos(4, 5, 6, 7, 6, 5, 4))"
   ]
  },
  {
   "cell_type": "markdown",
   "metadata": {},
   "source": [
    "# Práctica sobre Argumentos Indefinidos (*args) 3\n",
    "* Crea una función llamada numeros_persona que reciba, como primer argumento, un nombre, y a continuación, una cantidad indefinida de números.\n",
    "\n",
    "* La función debe devolver el siguiente mensaje:\n",
    "* \"{nombre}, la suma de tus números es {suma_numeros}\""
   ]
  },
  {
   "cell_type": "code",
   "execution_count": null,
   "metadata": {},
   "outputs": [],
   "source": [
    "def numeros_persona (nombre,*numeros):\n",
    "    suma_numeros = sum(abs(x) for x in numeros)\n",
    "    return f\"{nombre}, la suma de tus números es {suma_numeros}\"\n",
    "\n",
    "numeros_persona (\"abel\",1,3)"
   ]
  },
  {
   "cell_type": "markdown",
   "metadata": {},
   "source": [
    "# Práctica sobre Argumentos Indefinidos (**kwargs) 1\n",
    "* Crea una función llamada cantidad_atributos que cuente la cantidad de parémetros que se entregan, y devuelva esa cantidad como resultado."
   ]
  },
  {
   "cell_type": "code",
   "execution_count": null,
   "metadata": {},
   "outputs": [],
   "source": [
    "def cantidad_atributos(**kwargs):\n",
    "    return len(kwargs)\n",
    "\n",
    "print(cantidad_atributos(x=3, y=4526, z=47, w=5678, v=576))"
   ]
  },
  {
   "cell_type": "markdown",
   "metadata": {},
   "source": [
    "# Práctica sobre Argumentos Indefinidos (**kwargs) 2\n",
    "* Crea una función llamada lista_atributos que devuelva en forma de lista los valores de los atributos entregados en forma de palabras clave =valor(keywords). \n",
    "* La función debe preveer recibir cualquier cantidad de argumentos de este tipo.\n",
    "\n",
    "* 1º Crea una funcion llamada_lista_atributos\n",
    "* 2º debe retornar en forma de lista lo siguiente: añadiendo clave-valor (diccionario) debe de darte unicamente los valores\n",
    "* 3º Debe aceptar todo tipo de cantidad de argumentos (estos deben ser clave-valor)"
   ]
  },
  {
   "cell_type": "code",
   "execution_count": null,
   "metadata": {},
   "outputs": [],
   "source": [
    "# ASI SIRVE PARA HACERLISTAS NORMALES\n",
    "def lista_atributos (*kwargs):\n",
    "    return list(kwargs)\n",
    "\n",
    "print(lista_atributos(342,3456))\n",
    "\n",
    "# ASI SIRVE PARA HACER LISTAS CON CLAVE-VALOR\n",
    "\n",
    "def lista_atributos (**kwargs):\n",
    "    return list(kwargs)\n",
    "\n",
    "print(lista_atributos(X=342,Y=3456))\n",
    "\n",
    "#ASI TODO JUNTO:\n",
    "\n",
    "def lista_atributos(*args, **kwargs):\n",
    "    lista_argumentos = list(args) + list(kwargs.items())\n",
    "    return lista_argumentos\n",
    "\n",
    "print(lista_atributos(342, 3456, x=5))\n",
    "\n",
    "#____\n",
    "\n",
    "def lista_atributos(**kwargs):\n",
    "    return list(kwargs.values())\n",
    "\n",
    "# Ejemplo de uso:\n",
    "valores_atributos = lista_atributos(color_ojos='azules', color_pelo='rubio', edad=25)\n",
    "print(valores_atributos)"
   ]
  },
  {
   "cell_type": "markdown",
   "metadata": {},
   "source": [
    "# Práctica sobre Argumentos Indefinidos (**kwargs) 3\n",
    "* Crea una función llamada describir_persona, que tome como parámetros su nombre y luego una cantidad indetermida de argumentos. Esta función deberá mostrar en pantalla:\n",
    "\n",
    "* Características de {nombre}:\n",
    "* {nombre_argumento}: {valor_argumento}\n",
    "* {nombre_argumento}: {valor_argumento}\n",
    "* etc...\n",
    "* Por ejemplo:\n",
    "\n",
    "* describir_persona(\"María\", color_ojos=\"azules\", color_pelo=\"rubio\")\n",
    "\n",
    "* Mostrará en pantalla:\n",
    "\n",
    "* Características de María:\n",
    "* color_ojos: azules\n",
    "* color_pelo: rubio"
   ]
  },
  {
   "cell_type": "code",
   "execution_count": null,
   "metadata": {},
   "outputs": [],
   "source": [
    "\n",
    "def describir_persona(nombre, **kwargs):\n",
    "    print(f\"Características de {nombre}:\")\n",
    "    for clave, valor in kwargs.items():\n",
    "        print(f\"{clave}: {valor}\")\n",
    "\n",
    "# Ejemplo de uso:\n",
    "describir_persona(\"María\", color_ojos=\"azules\", color_pelo=\"rubio\")"
   ]
  }
 ],
 "metadata": {
  "language_info": {
   "name": "python"
  }
 },
 "nbformat": 4,
 "nbformat_minor": 2
}
